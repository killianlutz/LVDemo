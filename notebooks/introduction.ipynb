{
 "cells": [
  {
   "cell_type": "code",
   "execution_count": null,
   "metadata": {},
   "outputs": [],
   "source": [
    "using Pkg\n",
    "Pkg.activate(\"./venv_LVDemo/\")\n",
    "# Pkg.instantiate() # first use: resolves appropriate package versions"
   ]
  },
  {
   "cell_type": "code",
   "execution_count": 1,
   "metadata": {},
   "outputs": [],
   "source": [
    "include(\"../src/modules/LVDemo.jl\")\n",
    "using .LVDemo\n",
    "import GLMakie: with_theme, theme_dark, Theme"
   ]
  },
  {
   "cell_type": "markdown",
   "metadata": {},
   "source": [
    "# Lotka-Volterra ODE\n",
    "\n",
    "$$\\dot{x}(t) = f_\\theta(x(t))$$ \n",
    "where $$\\theta = (\\alpha, \\beta, \\gamma, \\delta)\\in [0, + ∞)^4$$ \n",
    "and\n",
    "$$f_\\theta: \\mathbb{R}^2 \\ni \\begin{pmatrix} u \\\\ v \\end{pmatrix} \\mapsto \\begin{pmatrix}u\\alpha - \\beta uv \\\\  \\delta uv - \\gamma v\\end{pmatrix} \\in \\mathbb{R}^2$$"
   ]
  },
  {
   "cell_type": "code",
   "execution_count": 2,
   "metadata": {},
   "outputs": [],
   "source": [
    "fig = with_theme(animate_lotka_volterra, theme_dark())"
   ]
  }
 ],
 "metadata": {
  "kernelspec": {
   "display_name": "Julia 1.9.1",
   "language": "julia",
   "name": "julia-1.9"
  },
  "language_info": {
   "file_extension": ".jl",
   "mimetype": "application/julia",
   "name": "julia",
   "version": "1.9.1"
  }
 },
 "nbformat": 4,
 "nbformat_minor": 2
}
